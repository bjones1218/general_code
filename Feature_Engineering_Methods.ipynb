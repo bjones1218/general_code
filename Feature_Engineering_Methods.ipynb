{
 "cells": [
  {
   "cell_type": "code",
   "execution_count": null,
   "id": "9eae60d5-29a1-4d2d-904d-f96d18ce0676",
   "metadata": {},
   "outputs": [],
   "source": [
    "# Interaction Terms\n",
    "X_scaled['DO_TEMP_interaction'] = X_scaled['DO'] * X_scaled['TEMP']\n",
    "X_scaled['pH_CONDUCTIVITY_interaction'] = X_scaled['pH'] * X_scaled['CONDUCTIVITY']\n",
    "X_scaled['BOD_NITRATE_interaction'] = X_scaled['BOD'] * X_scaled['NITRATE_N_NITRITE_N']"
   ]
  },
  {
   "cell_type": "code",
   "execution_count": null,
   "id": "3c9fd665-1cc0-4c4b-a741-2f36c2cf5aa8",
   "metadata": {},
   "outputs": [],
   "source": [
    "# Ratios \n",
    "X_scaled['BOD_DO_ratio'] = df['BOD']/df['DO']\n",
    "X_scaled['FECAL_TOTAL_COLIFORM_ratio'] = df['FECAL_COLIFORM']/df['TOTAL_COLIFORM']"
   ]
  },
  {
   "cell_type": "code",
   "execution_count": null,
   "id": "b53fbca0-bce7-400c-9d0d-92ee7341479c",
   "metadata": {},
   "outputs": [],
   "source": [
    "# Polynomial Features\n",
    "from sklearn.preprocessing import PolynomialFeatures\n",
    "\n",
    "poly = PolynomialFeatures(degree=2, include_bias=False)\n",
    "poly_features = poly.fit_transform(X_scaled[['TEMP', 'pH']])\n",
    "poly_features_names = poly.get_feature_names_out(['TEMP', 'pH'])\n",
    "poly_features_names_df =pd.DataFrame(poly_features, columns=poly_features_names)\n",
    "poly_features_names_df"
   ]
  },
  {
   "cell_type": "code",
   "execution_count": null,
   "id": "eb80eac6-e859-47d6-a76e-c4976c303e95",
   "metadata": {},
   "outputs": [],
   "source": [
    "# Dropping TEMP and pH columns before concatenating it to X_scaled to avoid duplicate data\n",
    "poly_features_names_df = poly_features_names_df.drop(columns=['TEMP', 'pH'])\n",
    "poly_features_names_df"
   ]
  },
  {
   "cell_type": "code",
   "execution_count": null,
   "id": "837b0e3b-972d-4498-ac0b-a8d07bd01ef9",
   "metadata": {},
   "outputs": [],
   "source": [
    "X_scaled = pd.concat([X_scaled.reset_index(drop=True), poly_features_names_df], axis=1)\n",
    "X_scaled"
   ]
  },
  {
   "cell_type": "code",
   "execution_count": null,
   "id": "adff4467-542b-41fe-85b1-8bb1dd93c53d",
   "metadata": {},
   "outputs": [],
   "source": [
    "# Log Transformations\n",
    "X_scaled['log_BOD'] = np.log1p(X_scaled['BOD'])\n",
    "X_scaled['log_FECAL_COLIFORM'] = np.log1p(X_scaled['FECAL_COLIFORM'])"
   ]
  },
  {
   "cell_type": "code",
   "execution_count": null,
   "id": "e1e0cb15-67b4-4b4c-b1bc-43b8459ce7d9",
   "metadata": {},
   "outputs": [],
   "source": []
  },
  {
   "cell_type": "code",
   "execution_count": null,
   "id": "ddb45da3-bb5f-477e-bc16-72eccd18d1a4",
   "metadata": {},
   "outputs": [],
   "source": []
  },
  {
   "cell_type": "code",
   "execution_count": null,
   "id": "4f2e84ad-920b-47cb-884c-3d088c09a267",
   "metadata": {},
   "outputs": [],
   "source": []
  },
  {
   "cell_type": "code",
   "execution_count": null,
   "id": "1805114d-ae33-4d2d-8cf9-9b11e2a66251",
   "metadata": {},
   "outputs": [],
   "source": []
  },
  {
   "cell_type": "code",
   "execution_count": null,
   "id": "ae5a0638-1f93-452a-a10e-a1b03ac1d594",
   "metadata": {},
   "outputs": [],
   "source": []
  }
 ],
 "metadata": {
  "kernelspec": {
   "display_name": "Python 3 (ipykernel)",
   "language": "python",
   "name": "python3"
  },
  "language_info": {
   "codemirror_mode": {
    "name": "ipython",
    "version": 3
   },
   "file_extension": ".py",
   "mimetype": "text/x-python",
   "name": "python",
   "nbconvert_exporter": "python",
   "pygments_lexer": "ipython3",
   "version": "3.11.7"
  }
 },
 "nbformat": 4,
 "nbformat_minor": 5
}
